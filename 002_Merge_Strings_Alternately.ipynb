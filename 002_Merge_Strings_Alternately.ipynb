{
  "nbformat": 4,
  "nbformat_minor": 0,
  "metadata": {
    "colab": {
      "provenance": []
    },
    "kernelspec": {
      "name": "python3",
      "display_name": "Python 3"
    },
    "language_info": {
      "name": "python"
    }
  },
  "cells": [
    {
      "cell_type": "markdown",
      "source": [
        "# 1768. [Merge Strings Alternately](https://leetcode.com/problems/merge-strings-alternately)"
      ],
      "metadata": {
        "id": "V4FVFcwuV6i4"
      }
    },
    {
      "cell_type": "markdown",
      "source": [
        "#### You are given two strings ```word1``` and ```word2```. Merge the strings by adding letters in alternating order, starting with ```word1```. If a string is longer than the other, append the additional letters onto the end of the merged string."
      ],
      "metadata": {
        "id": "Wn-txuOXWFqk"
      }
    },
    {
      "cell_type": "code",
      "source": [
        "word1, word2 = 'abcde', 'pqrtubgf'\n",
        "print(word1)\n",
        "print(word2)"
      ],
      "metadata": {
        "colab": {
          "base_uri": "https://localhost:8080/"
        },
        "id": "y_xqpR7PWU3o",
        "outputId": "93bf61b0-bee9-44ab-a019-0193b8698d07"
      },
      "execution_count": 8,
      "outputs": [
        {
          "output_type": "stream",
          "name": "stdout",
          "text": [
            "abcde\n",
            "pqrtubgf\n"
          ]
        }
      ]
    },
    {
      "cell_type": "code",
      "source": [
        "A, B = len(word1), len(word2)\n",
        "a, b = 0, 0\n",
        "s = []\n",
        "word = 1\n",
        "\n",
        "while a < A and b < B:\n",
        "  if word == 1:\n",
        "    s.append(word1[a])\n",
        "    a += 1\n",
        "    word = 2\n",
        "  else:\n",
        "    s.append(word2[b])\n",
        "    b += 1\n",
        "    word = 1\n",
        "while a < A:\n",
        "  s.append(word1[a])\n",
        "  a +=1\n",
        "while b < B:\n",
        "  s.append(word2[b])\n",
        "  b += 1\n",
        "\n",
        "print(''.join(s))"
      ],
      "metadata": {
        "colab": {
          "base_uri": "https://localhost:8080/"
        },
        "id": "cRHFQUdWWcrP",
        "outputId": "b3613438-7a5d-4d1d-fcc7-6ccad8249aea"
      },
      "execution_count": 9,
      "outputs": [
        {
          "output_type": "stream",
          "name": "stdout",
          "text": [
            "apbqcrdteubgf\n"
          ]
        }
      ]
    },
    {
      "cell_type": "code",
      "source": [],
      "metadata": {
        "id": "VrBSb9j28xQX"
      },
      "execution_count": null,
      "outputs": []
    }
  ]
}