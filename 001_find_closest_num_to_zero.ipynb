{
  "nbformat": 4,
  "nbformat_minor": 0,
  "metadata": {
    "colab": {
      "provenance": [],
      "authorship_tag": "ABX9TyO/2InyW2AjdhFQsa8zZaS+",
      "include_colab_link": true
    },
    "kernelspec": {
      "name": "python3",
      "display_name": "Python 3"
    },
    "language_info": {
      "name": "python"
    }
  },
  "cells": [
    {
      "cell_type": "markdown",
      "metadata": {
        "id": "view-in-github",
        "colab_type": "text"
      },
      "source": [
        "<a href=\"https://colab.research.google.com/github/mz-scripter-X/Data-Structure-and-Algorithm-/blob/main/001_find_closest_num_to_zero.ipynb\" target=\"_parent\"><img src=\"https://colab.research.google.com/assets/colab-badge.svg\" alt=\"Open In Colab\"/></a>"
      ]
    },
    {
      "cell_type": "markdown",
      "source": [
        "# Find Closest Number to Zero\n",
        "Given an integer array ```nums``` of size ```n```, return the number with the value ***closest*** to 0 in ```nums```. If there are multiple answers, return the number with the ***largest*** value.\n",
        "> [Link to Question](https://leetcode.com/problems/find-closest-number-to-zero/description/)"
      ],
      "metadata": {
        "id": "ro0sEzOAP0mQ"
      }
    },
    {
      "cell_type": "code",
      "source": [
        "from typing import List"
      ],
      "metadata": {
        "id": "T2sXE3hIWOuV"
      },
      "execution_count": 11,
      "outputs": []
    },
    {
      "cell_type": "code",
      "source": [
        "class Solution:\n",
        "  def findClosestNumber(self, nums: List[int]) -> int:\n",
        "    closest = nums[0]\n",
        "    for x in nums:\n",
        "      if abs(x) < abs(closest):\n",
        "        closest = x\n",
        "    if closest < 0 and abs(closest) in nums:\n",
        "      return abs(closest)\n",
        "    else:\n",
        "      return closest\n",
        "#Time complexity: 0(n)\n",
        "#Space complexity: 0(1)\n",
        "nums = [-4,7,5,4,8]\n",
        "solution = Solution()\n",
        "result = solution.findClosestNumber(nums)\n",
        "print(result)"
      ],
      "metadata": {
        "colab": {
          "base_uri": "https://localhost:8080/"
        },
        "id": "TBPDrzzPSII6",
        "outputId": "afa43165-83cd-41fa-a166-bd0437b6bc3d"
      },
      "execution_count": 14,
      "outputs": [
        {
          "output_type": "stream",
          "name": "stdout",
          "text": [
            "4\n"
          ]
        }
      ]
    }
  ]
}